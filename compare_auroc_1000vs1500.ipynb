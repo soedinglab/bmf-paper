{
 "cells": [
  {
   "cell_type": "markdown",
   "metadata": {},
   "source": [
    "## Compare the influence of max_iterations (Figure S1)"
   ]
  },
  {
   "cell_type": "code",
   "execution_count": 1,
   "metadata": {},
   "outputs": [],
   "source": [
    "import os \n",
    "import numpy as np\n",
    "from matplotlib import pyplot as plt\n",
    "import pandas as pd\n",
    "from sklearn.metrics import roc_curve, roc_auc_score, average_precision_score, precision_recall_curve, auc\n",
    "import pickle\n",
    "import seaborn as sns\n",
    "from Bio import SeqIO\n",
    "from os.path import isfile, join\n",
    "from itertools import compress\n",
    "import itertools\n",
    "from scipy.stats import nbinom\n",
    "import matplotlib"
   ]
  },
  {
   "cell_type": "markdown",
   "metadata": {},
   "source": [
    "#### See auroc_kmer_vs_bmf.ipynb for train/test split code"
   ]
  },
  {
   "cell_type": "code",
   "execution_count": 2,
   "metadata": {},
   "outputs": [],
   "source": [
    "def fasta_length(file_name):\n",
    "    input_seq_iterator = SeqIO.parse(file_name, \"fasta\")\n",
    "    return len([record.seq for record in input_seq_iterator])"
   ]
  },
  {
   "cell_type": "code",
   "execution_count": 3,
   "metadata": {},
   "outputs": [],
   "source": [
    "def read_predictions(pred_file):\n",
    "    pred = np.loadtxt(pred_file)\n",
    "    return pred"
   ]
  },
  {
   "cell_type": "code",
   "execution_count": 4,
   "metadata": {},
   "outputs": [],
   "source": [
    "file_table = pd.read_csv('../../../cbscratch/selex_taipale/ps_and_bg_file_table_first_and_last.txt', sep='\\t', header=None)\n",
    "fasta_path = '../../../cbscratch/selex_taipale/fasta_split_first_and_last/'\n",
    "count_table = []\n",
    "for i in range(len(file_table)):\n",
    "    factor = file_table.iloc[i,0]\n",
    "    ps_file = os.path.join(fasta_path, f'{factor}_test_ps.fasta')\n",
    "    ps_no = fasta_length(ps_file)\n",
    "    \n",
    "    bg_file = os.path.join(fasta_path, f'{factor}_test_bg.fasta')\n",
    "    bg_no = fasta_length(bg_file)\n",
    "    \n",
    "    count_table.append([factor, ps_no, bg_no])"
   ]
  },
  {
   "cell_type": "code",
   "execution_count": 5,
   "metadata": {},
   "outputs": [],
   "source": [
    "#we trained and predicted via BMF with the fixed number of 1000 and 1500 iterations\n",
    "nb1000_path = 'param/selex_nodist0_1000/split_selex_cs3/'\n",
    "nb1500_path = 'param/selex_nodist0_1500/split_selex_cs3/'"
   ]
  },
  {
   "cell_type": "code",
   "execution_count": 6,
   "metadata": {},
   "outputs": [],
   "source": [
    "def comp_auc(file, y_true):\n",
    "    if os.path.isfile(file):\n",
    "        y_comp = read_predictions(file)\n",
    "        auc_comp = roc_auc_score(y_true, y_comp)\n",
    "    else:\n",
    "        print(f'predictions not found (runtime error)')\n",
    "        auc_comp = np.nan\n",
    "    return auc_comp\n",
    "\n",
    "\n",
    "auc_list = []\n",
    "\n",
    "for i in range(len(count_table)):\n",
    "    \n",
    "    factor, ps_no, bg_no = count_table[i]\n",
    "    \n",
    "    fpr = []\n",
    "    tpr = []\n",
    "\n",
    "    nb1000_file = os.path.join(nb1000_path, f'{factor}.predictions')\n",
    "    nb1500_file = os.path.join(nb1500_path, f'{factor}.predictions')\n",
    "    \n",
    "    y_true = np.concatenate([np.ones(ps_no), np.zeros(bg_no)])\n",
    "\n",
    "    auc_nb10 = comp_auc(nb1000_file, y_true)\n",
    "    auc_nb15 = comp_auc(nb1500_file, y_true)\n",
    "\n",
    "    auc_list.append([auc_nb10, auc_nb15])  "
   ]
  },
  {
   "cell_type": "code",
   "execution_count": 8,
   "metadata": {},
   "outputs": [],
   "source": [
    "plotting_dir = 'max_iter'\n",
    "\n",
    "datasets = ['1000 iterations', '1500 iterations']\n",
    "factors = [c[0] for c in count_table]\n",
    "\n",
    "metric_df = pd.DataFrame(auc_list, columns=datasets)\n",
    "metric_df['factors'] = [c.split('-')[0] for c in factors]\n",
    "factors_unique = []\n",
    "metric_by_factor = {}\n",
    "for label, df in metric_df.groupby('factors'):\n",
    "    factors_unique.append(label)\n",
    "    values = df.replace(0, np.NaN).mean()\n",
    "    metric_by_factor[label] = values\n",
    "\n",
    "metric_by_factor = pd.DataFrame(metric_by_factor).T.loc[:,datasets].values\n",
    "metric_by_factor = np.array(metric_by_factor)"
   ]
  },
  {
   "cell_type": "markdown",
   "metadata": {},
   "source": [
    "## Compare iterations"
   ]
  },
  {
   "cell_type": "code",
   "execution_count": 9,
   "metadata": {},
   "outputs": [
    {
     "data": {
      "image/png": "[encoded data removed]",
      "text/plain": [
       "<Figure size 288x288 with 1 Axes>"
      ]
     },
     "metadata": {
      "needs_background": "light"
     },
     "output_type": "display_data"
    }
   ],
   "source": [
    "fig, ax = plt.subplots(figsize=(4,4))\n",
    "_ = ax.scatter(metric_by_factor[:,1],metric_by_factor[:,0], linewidths=0.7, edgecolor='black')\n",
    "_ = ax.set_xlim(0.6,1)\n",
    "_ = ax.set_ylim(0.6,1)\n",
    "_ = ax.plot([0,1],[0,1],ls='--',color='grey')\n",
    "_ = ax.set_xlabel(f'AUROC ({datasets[1]})')\n",
    "_ = ax.set_ylabel(f'AUROC ({datasets[0]})')\n",
    "            \n",
    "plt.savefig(os.path.join(plotting_dir,'1500vs1000.pdf'), bbox_inches='tight')"
   ]
  }
 ],
 "metadata": {
  "kernelspec": {
   "display_name": "Python 3",
   "language": "python",
   "name": "python3"
  },
  "language_info": {
   "codemirror_mode": {
    "name": "ipython",
    "version": 3
   },
   "file_extension": ".py",
   "mimetype": "text/x-python",
   "name": "python",
   "nbconvert_exporter": "python",
   "pygments_lexer": "ipython3",
   "version": "3.6.7"
  }
 },
 "nbformat": 4,
 "nbformat_minor": 4
}
