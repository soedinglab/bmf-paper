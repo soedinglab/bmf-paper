{
 "cells": [
  {
   "cell_type": "markdown",
   "metadata": {},
   "source": [
    "# Generate synthetic data with implanted motifs (Figure 1C, S1)"
   ]
  },
  {
   "cell_type": "code",
   "execution_count": 1,
   "metadata": {},
   "outputs": [],
   "source": [
    "import numpy as np\n",
    "import os\n",
    "import pandas as pd\n",
    "from Bio import SeqIO\n",
    "import random\n",
    "import itertools"
   ]
  },
  {
   "cell_type": "markdown",
   "metadata": {},
   "source": [
    "## set BMF distance parameters"
   ]
  },
  {
   "cell_type": "code",
   "execution_count": 2,
   "metadata": {},
   "outputs": [
    {
     "data": {
      "text/plain": [
       "[<matplotlib.lines.Line2D at 0x7f3012de8eb8>]"
      ]
     },
     "execution_count": 2,
     "metadata": {},
     "output_type": "execute_result"
    },
    {
     "data": {
      "image/png": "[encoded data removed]",
      "text/plain": [
       "<Figure size 432x288 with 1 Axes>"
      ]
     },
     "metadata": {
      "needs_background": "light"
     },
     "output_type": "display_data"
    }
   ],
   "source": [
    "from matplotlib import pyplot as plt\n",
    "from scipy.stats import nbinom\n",
    "xx = np.arange(0, 40, 1)\n",
    "r = 40\n",
    "p = 0.9\n",
    "plt.plot(xx, nbinom.pmf(xx, r, p))"
   ]
  },
  {
   "cell_type": "code",
   "execution_count": 3,
   "metadata": {},
   "outputs": [],
   "source": [
    "append = False #append to file to generate motif mixture models if needed\n",
    "\n",
    "alphabet = ['A','C','G','T']\n",
    "\n",
    "#kmers in the list will get equal probabilities\n",
    "core1 = ['AAA','AAT'] # BMF core I\n",
    "core2 = ['CCC','CCG'] # BMF core II\n",
    "l = 3\n",
    "\n",
    "seq_length = 40\n",
    "no_sequences = 2000  #number of positive and negative sequences generated\n",
    "ratio_with_motif = 1 #raito of sequences in the positive set to have the implanted motif"
   ]
  },
  {
   "cell_type": "markdown",
   "metadata": {},
   "source": [
    "## generate sequences"
   ]
  },
  {
   "cell_type": "code",
   "execution_count": 4,
   "metadata": {},
   "outputs": [],
   "source": [
    "def generate_sequences(no_sequences):\n",
    "    no_motifs = int(no_sequences*ratio_with_motif)\n",
    "    #generate random sequences \n",
    "    positive_sequences = [''.join([random.choice(alphabet) for i in range(seq_length)]) for j in range(no_sequences)]\n",
    "    negative_sequences = [''.join([random.choice(alphabet) for i in range(seq_length)]) for j in range(no_sequences)]\n",
    "\n",
    "    #assume one motif per sequence\n",
    "    seqs_to_insert = random.sample(range(no_sequences),no_motifs) #select sequences for motif insertion\n",
    "\n",
    "    for i in seqs_to_insert:\n",
    "        seq = positive_sequences[i]\n",
    "\n",
    "        dist = np.random.negative_binomial(r, p, 1)[0]  #motif distances\n",
    "        ins = random.choice(range(0, max(1,seq_length-l*2-dist)))  #insertion position\n",
    "        c1 = random.choice(core1)    #select core 1 \n",
    "        c2 = random.choice(core2)    #select core 2\n",
    "\n",
    "        seq = list(seq)   #convert to list for indexing\n",
    "        for pos in range(len(c1)):  #insert core 1\n",
    "            if pos + ins < len(seq):\n",
    "                seq[pos+ins] = c1[pos]\n",
    "\n",
    "        for pos in range(len(c2)):   #insert core 2\n",
    "            if pos + ins + dist + len(c1) < len(seq):\n",
    "                seq[pos+ins+dist+len(c1)] = c2[pos]\n",
    "\n",
    "        seq = ''.join(seq)\n",
    "\n",
    "        positive_sequences[i] = seq\n",
    "    \n",
    "    return positive_sequences, negative_sequences"
   ]
  },
  {
   "cell_type": "markdown",
   "metadata": {},
   "source": [
    "## save sequences as fasta/fastq/seq files"
   ]
  },
  {
   "cell_type": "code",
   "execution_count": 5,
   "metadata": {},
   "outputs": [],
   "source": [
    "def write_seqs(positive_sequences, negative_sequences, file_pos, file_neg):\n",
    "    #write positives to file\n",
    "    with open(file_pos, 'a' if append else 'w') as f:\n",
    "        for i, seq in enumerate(positive_sequences):\n",
    "            print('> header', i+1, file=f)\n",
    "            print(seq, file=f)\n",
    "\n",
    "    #write negatives to file\n",
    "    with open(file_neg, 'w') as f:\n",
    "        for i, seq in enumerate(negative_sequences):\n",
    "            print('> header', i+1, file=f)\n",
    "            print(seq, file=f)"
   ]
  },
  {
   "cell_type": "code",
   "execution_count": 6,
   "metadata": {},
   "outputs": [],
   "source": [
    "def write_seqs_fastq(positive_sequences, negative_sequences, file_pos, file_neg):\n",
    "    #write positives to file\n",
    "    with open(file_pos + '.fastq', 'a' if append else 'w') as f:\n",
    "        for i, seq in enumerate(positive_sequences):\n",
    "            print('@header', i+1, file=f)\n",
    "            print(seq, file=f)\n",
    "            print('+', file=f)\n",
    "            print(''.join(['~']*len(seq)), file=f)\n",
    "\n",
    "    #write negatives to file\n",
    "    with open(file_neg + '.fastq', 'w') as f:\n",
    "        for i, seq in enumerate(negative_sequences):\n",
    "            print('@header', i+1, file=f)\n",
    "            print(seq, file=f)\n",
    "            print('+', file=f)\n",
    "            print(''.join(['~']*len(seq)), file=f)\n",
    "            \n",
    "def write_seqs_fasta(positive_sequences, negative_sequences, file_pos, file_neg):\n",
    "    #write positives to file\n",
    "    with open(file_pos + '.fasta', 'a' if append else 'w') as f:\n",
    "        for i, seq in enumerate(positive_sequences):\n",
    "            print('>header', i+1, file=f)\n",
    "            print(seq, file=f)\n",
    "\n",
    "    #write negatives to file\n",
    "    with open(file_neg + '.fasta', 'w') as f:\n",
    "        for i, seq in enumerate(negative_sequences):\n",
    "            print('>header', i+1, file=f)\n",
    "            print(seq, file=f)"
   ]
  },
  {
   "cell_type": "markdown",
   "metadata": {},
   "source": [
    "## generate dataset"
   ]
  },
  {
   "cell_type": "code",
   "execution_count": 7,
   "metadata": {},
   "outputs": [],
   "source": [
    "write_seqs_fasta(*generate_sequences(no_sequences), 'data/positives_AAat_CCcg', 'data/negatives_AAat_CCcg')"
   ]
  }
 ],
 "metadata": {
  "kernelspec": {
   "display_name": "Python [conda env:rbp_motif]",
   "language": "python",
   "name": "conda-env-rbp_motif-py"
  },
  "language_info": {
   "codemirror_mode": {
    "name": "ipython",
    "version": 3
   },
   "file_extension": ".py",
   "mimetype": "text/x-python",
   "name": "python",
   "nbconvert_exporter": "python",
   "pygments_lexer": "ipython3",
   "version": "3.6.7"
  }
 },
 "nbformat": 4,
 "nbformat_minor": 4
}
